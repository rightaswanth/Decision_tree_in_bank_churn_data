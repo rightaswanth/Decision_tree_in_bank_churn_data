{
 "cells": [
  {
   "cell_type": "code",
   "execution_count": 1,
   "id": "0e06ad7d",
   "metadata": {
    "execution": {
     "iopub.execute_input": "2023-12-03T09:34:47.794260Z",
     "iopub.status.busy": "2023-12-03T09:34:47.793540Z",
     "iopub.status.idle": "2023-12-03T09:34:48.060211Z",
     "shell.execute_reply": "2023-12-03T09:34:48.059304Z"
    },
    "papermill": {
     "duration": 0.27686,
     "end_time": "2023-12-03T09:34:48.062508",
     "exception": false,
     "start_time": "2023-12-03T09:34:47.785648",
     "status": "completed"
    },
    "tags": []
   },
   "outputs": [],
   "source": [
    "import pandas as pd\n",
    "import numpy as np"
   ]
  },
  {
   "cell_type": "code",
   "execution_count": 2,
   "id": "3a3acccd",
   "metadata": {
    "execution": {
     "iopub.execute_input": "2023-12-03T09:34:48.075699Z",
     "iopub.status.busy": "2023-12-03T09:34:48.075318Z",
     "iopub.status.idle": "2023-12-03T09:34:48.112961Z",
     "shell.execute_reply": "2023-12-03T09:34:48.112236Z"
    },
    "papermill": {
     "duration": 0.046063,
     "end_time": "2023-12-03T09:34:48.114811",
     "exception": false,
     "start_time": "2023-12-03T09:34:48.068748",
     "status": "completed"
    },
    "tags": []
   },
   "outputs": [],
   "source": [
    "ds=pd.read_csv(\"/kaggle/input/bank-churn-data/bank_churn_data.csv\")"
   ]
  },
  {
   "cell_type": "code",
   "execution_count": 3,
   "id": "f24d0be8",
   "metadata": {
    "execution": {
     "iopub.execute_input": "2023-12-03T09:34:48.128057Z",
     "iopub.status.busy": "2023-12-03T09:34:48.127814Z",
     "iopub.status.idle": "2023-12-03T09:34:48.149530Z",
     "shell.execute_reply": "2023-12-03T09:34:48.148624Z"
    },
    "papermill": {
     "duration": 0.030126,
     "end_time": "2023-12-03T09:34:48.151237",
     "exception": false,
     "start_time": "2023-12-03T09:34:48.121111",
     "status": "completed"
    },
    "tags": []
   },
   "outputs": [
    {
     "data": {
      "text/html": [
       "<div>\n",
       "<style scoped>\n",
       "    .dataframe tbody tr th:only-of-type {\n",
       "        vertical-align: middle;\n",
       "    }\n",
       "\n",
       "    .dataframe tbody tr th {\n",
       "        vertical-align: top;\n",
       "    }\n",
       "\n",
       "    .dataframe thead th {\n",
       "        text-align: right;\n",
       "    }\n",
       "</style>\n",
       "<table border=\"1\" class=\"dataframe\">\n",
       "  <thead>\n",
       "    <tr style=\"text-align: right;\">\n",
       "      <th></th>\n",
       "      <th>RowNumber</th>\n",
       "      <th>CustomerId</th>\n",
       "      <th>Surname</th>\n",
       "      <th>CreditScore</th>\n",
       "      <th>Geography</th>\n",
       "      <th>Gender</th>\n",
       "      <th>Age</th>\n",
       "      <th>Tenure</th>\n",
       "      <th>Balance</th>\n",
       "      <th>NumOfProducts</th>\n",
       "      <th>HasCrCard</th>\n",
       "      <th>IsActiveMember</th>\n",
       "      <th>EstimatedSalary</th>\n",
       "      <th>Exited</th>\n",
       "    </tr>\n",
       "  </thead>\n",
       "  <tbody>\n",
       "    <tr>\n",
       "      <th>0</th>\n",
       "      <td>1</td>\n",
       "      <td>15634602.0</td>\n",
       "      <td>Hargrave</td>\n",
       "      <td>619</td>\n",
       "      <td>France</td>\n",
       "      <td>Female</td>\n",
       "      <td>42</td>\n",
       "      <td>2.0</td>\n",
       "      <td>0.00</td>\n",
       "      <td>1.0</td>\n",
       "      <td>1</td>\n",
       "      <td>1</td>\n",
       "      <td>101348.88</td>\n",
       "      <td>1.0</td>\n",
       "    </tr>\n",
       "    <tr>\n",
       "      <th>1</th>\n",
       "      <td>2</td>\n",
       "      <td>15647311.0</td>\n",
       "      <td>Hill</td>\n",
       "      <td>608</td>\n",
       "      <td>Spain</td>\n",
       "      <td>Female</td>\n",
       "      <td>41</td>\n",
       "      <td>1.0</td>\n",
       "      <td>83807.86</td>\n",
       "      <td>1.0</td>\n",
       "      <td>0</td>\n",
       "      <td>1</td>\n",
       "      <td>112542.58</td>\n",
       "      <td>0.0</td>\n",
       "    </tr>\n",
       "    <tr>\n",
       "      <th>2</th>\n",
       "      <td>3</td>\n",
       "      <td>15619304.0</td>\n",
       "      <td>Onio</td>\n",
       "      <td>502</td>\n",
       "      <td>France</td>\n",
       "      <td>Female</td>\n",
       "      <td>42</td>\n",
       "      <td>8.0</td>\n",
       "      <td>159660.80</td>\n",
       "      <td>3.0</td>\n",
       "      <td>1</td>\n",
       "      <td>0</td>\n",
       "      <td>113931.57</td>\n",
       "      <td>1.0</td>\n",
       "    </tr>\n",
       "    <tr>\n",
       "      <th>3</th>\n",
       "      <td>4</td>\n",
       "      <td>15701354.0</td>\n",
       "      <td>Boni</td>\n",
       "      <td>699</td>\n",
       "      <td>France</td>\n",
       "      <td>Female</td>\n",
       "      <td>39</td>\n",
       "      <td>1.0</td>\n",
       "      <td>0.00</td>\n",
       "      <td>2.0</td>\n",
       "      <td>0</td>\n",
       "      <td>0</td>\n",
       "      <td>93826.63</td>\n",
       "      <td>0.0</td>\n",
       "    </tr>\n",
       "    <tr>\n",
       "      <th>4</th>\n",
       "      <td>5</td>\n",
       "      <td>15737888.0</td>\n",
       "      <td>Mitchell</td>\n",
       "      <td>850</td>\n",
       "      <td>Spain</td>\n",
       "      <td>Female</td>\n",
       "      <td>43</td>\n",
       "      <td>2.0</td>\n",
       "      <td>125510.82</td>\n",
       "      <td>1.0</td>\n",
       "      <td>1</td>\n",
       "      <td>1</td>\n",
       "      <td>79084.10</td>\n",
       "      <td>0.0</td>\n",
       "    </tr>\n",
       "  </tbody>\n",
       "</table>\n",
       "</div>"
      ],
      "text/plain": [
       "   RowNumber  CustomerId   Surname  CreditScore Geography  Gender  Age  \\\n",
       "0          1  15634602.0  Hargrave          619    France  Female   42   \n",
       "1          2  15647311.0      Hill          608     Spain  Female   41   \n",
       "2          3  15619304.0      Onio          502    France  Female   42   \n",
       "3          4  15701354.0      Boni          699    France  Female   39   \n",
       "4          5  15737888.0  Mitchell          850     Spain  Female   43   \n",
       "\n",
       "   Tenure    Balance  NumOfProducts  HasCrCard  IsActiveMember  \\\n",
       "0     2.0       0.00            1.0          1               1   \n",
       "1     1.0   83807.86            1.0          0               1   \n",
       "2     8.0  159660.80            3.0          1               0   \n",
       "3     1.0       0.00            2.0          0               0   \n",
       "4     2.0  125510.82            1.0          1               1   \n",
       "\n",
       "   EstimatedSalary  Exited  \n",
       "0        101348.88     1.0  \n",
       "1        112542.58     0.0  \n",
       "2        113931.57     1.0  \n",
       "3         93826.63     0.0  \n",
       "4         79084.10     0.0  "
      ]
     },
     "execution_count": 3,
     "metadata": {},
     "output_type": "execute_result"
    }
   ],
   "source": [
    "ds.head()"
   ]
  },
  {
   "cell_type": "code",
   "execution_count": 4,
   "id": "6eee9860",
   "metadata": {
    "execution": {
     "iopub.execute_input": "2023-12-03T09:34:48.164691Z",
     "iopub.status.busy": "2023-12-03T09:34:48.164447Z",
     "iopub.status.idle": "2023-12-03T09:34:48.185380Z",
     "shell.execute_reply": "2023-12-03T09:34:48.184630Z"
    },
    "papermill": {
     "duration": 0.029552,
     "end_time": "2023-12-03T09:34:48.187066",
     "exception": false,
     "start_time": "2023-12-03T09:34:48.157514",
     "status": "completed"
    },
    "tags": []
   },
   "outputs": [
    {
     "data": {
      "text/html": [
       "<div>\n",
       "<style scoped>\n",
       "    .dataframe tbody tr th:only-of-type {\n",
       "        vertical-align: middle;\n",
       "    }\n",
       "\n",
       "    .dataframe tbody tr th {\n",
       "        vertical-align: top;\n",
       "    }\n",
       "\n",
       "    .dataframe thead th {\n",
       "        text-align: right;\n",
       "    }\n",
       "</style>\n",
       "<table border=\"1\" class=\"dataframe\">\n",
       "  <thead>\n",
       "    <tr style=\"text-align: right;\">\n",
       "      <th></th>\n",
       "      <th>RowNumber</th>\n",
       "      <th>CustomerId</th>\n",
       "      <th>Surname</th>\n",
       "      <th>CreditScore</th>\n",
       "      <th>Geography</th>\n",
       "      <th>Gender</th>\n",
       "      <th>Age</th>\n",
       "      <th>Tenure</th>\n",
       "      <th>Balance</th>\n",
       "      <th>NumOfProducts</th>\n",
       "      <th>HasCrCard</th>\n",
       "      <th>IsActiveMember</th>\n",
       "      <th>EstimatedSalary</th>\n",
       "      <th>Exited</th>\n",
       "    </tr>\n",
       "  </thead>\n",
       "  <tbody>\n",
       "    <tr>\n",
       "      <th>7506</th>\n",
       "      <td>7507</td>\n",
       "      <td>15700300.0</td>\n",
       "      <td>Okoli</td>\n",
       "      <td>674</td>\n",
       "      <td>Germany</td>\n",
       "      <td>Female</td>\n",
       "      <td>44</td>\n",
       "      <td>4.0</td>\n",
       "      <td>131593.85</td>\n",
       "      <td>1.0</td>\n",
       "      <td>0</td>\n",
       "      <td>1</td>\n",
       "      <td>171345.02</td>\n",
       "      <td>1.0</td>\n",
       "    </tr>\n",
       "    <tr>\n",
       "      <th>5464</th>\n",
       "      <td>5465</td>\n",
       "      <td>15795540.0</td>\n",
       "      <td>Reye</td>\n",
       "      <td>556</td>\n",
       "      <td>France</td>\n",
       "      <td>Female</td>\n",
       "      <td>36</td>\n",
       "      <td>2.0</td>\n",
       "      <td>134208.22</td>\n",
       "      <td>1.0</td>\n",
       "      <td>0</td>\n",
       "      <td>1</td>\n",
       "      <td>177670.57</td>\n",
       "      <td>0.0</td>\n",
       "    </tr>\n",
       "    <tr>\n",
       "      <th>9266</th>\n",
       "      <td>9267</td>\n",
       "      <td>15682273.0</td>\n",
       "      <td>Burns</td>\n",
       "      <td>683</td>\n",
       "      <td>France</td>\n",
       "      <td>Female</td>\n",
       "      <td>38</td>\n",
       "      <td>5.0</td>\n",
       "      <td>127616.56</td>\n",
       "      <td>1.0</td>\n",
       "      <td>1</td>\n",
       "      <td>0</td>\n",
       "      <td>123846.07</td>\n",
       "      <td>0.0</td>\n",
       "    </tr>\n",
       "    <tr>\n",
       "      <th>7959</th>\n",
       "      <td>7960</td>\n",
       "      <td>15686999.0</td>\n",
       "      <td>Nicholas</td>\n",
       "      <td>556</td>\n",
       "      <td>France</td>\n",
       "      <td>Female</td>\n",
       "      <td>40</td>\n",
       "      <td>8.0</td>\n",
       "      <td>0.00</td>\n",
       "      <td>2.0</td>\n",
       "      <td>1</td>\n",
       "      <td>0</td>\n",
       "      <td>62112.70</td>\n",
       "      <td>0.0</td>\n",
       "    </tr>\n",
       "    <tr>\n",
       "      <th>9433</th>\n",
       "      <td>9434</td>\n",
       "      <td>15582903.0</td>\n",
       "      <td>Edwards</td>\n",
       "      <td>643</td>\n",
       "      <td>France</td>\n",
       "      <td>Male</td>\n",
       "      <td>39</td>\n",
       "      <td>7.0</td>\n",
       "      <td>0.00</td>\n",
       "      <td>2.0</td>\n",
       "      <td>1</td>\n",
       "      <td>1</td>\n",
       "      <td>170392.59</td>\n",
       "      <td>0.0</td>\n",
       "    </tr>\n",
       "    <tr>\n",
       "      <th>7501</th>\n",
       "      <td>7502</td>\n",
       "      <td>15605341.0</td>\n",
       "      <td>Baird</td>\n",
       "      <td>681</td>\n",
       "      <td>France</td>\n",
       "      <td>Female</td>\n",
       "      <td>58</td>\n",
       "      <td>8.0</td>\n",
       "      <td>93173.88</td>\n",
       "      <td>1.0</td>\n",
       "      <td>1</td>\n",
       "      <td>1</td>\n",
       "      <td>139761.25</td>\n",
       "      <td>0.0</td>\n",
       "    </tr>\n",
       "    <tr>\n",
       "      <th>5516</th>\n",
       "      <td>5517</td>\n",
       "      <td>15569878.0</td>\n",
       "      <td>Dale</td>\n",
       "      <td>592</td>\n",
       "      <td>France</td>\n",
       "      <td>Male</td>\n",
       "      <td>37</td>\n",
       "      <td>3.0</td>\n",
       "      <td>96651.03</td>\n",
       "      <td>1.0</td>\n",
       "      <td>1</td>\n",
       "      <td>1</td>\n",
       "      <td>3232.82</td>\n",
       "      <td>0.0</td>\n",
       "    </tr>\n",
       "    <tr>\n",
       "      <th>1177</th>\n",
       "      <td>1178</td>\n",
       "      <td>15651369.0</td>\n",
       "      <td>Wright</td>\n",
       "      <td>626</td>\n",
       "      <td>France</td>\n",
       "      <td>Male</td>\n",
       "      <td>21</td>\n",
       "      <td>1.0</td>\n",
       "      <td>0.00</td>\n",
       "      <td>2.0</td>\n",
       "      <td>1</td>\n",
       "      <td>0</td>\n",
       "      <td>66232.23</td>\n",
       "      <td>0.0</td>\n",
       "    </tr>\n",
       "    <tr>\n",
       "      <th>8389</th>\n",
       "      <td>8390</td>\n",
       "      <td>15715345.0</td>\n",
       "      <td>Sergeyeva</td>\n",
       "      <td>743</td>\n",
       "      <td>Spain</td>\n",
       "      <td>Male</td>\n",
       "      <td>25</td>\n",
       "      <td>6.0</td>\n",
       "      <td>0.00</td>\n",
       "      <td>2.0</td>\n",
       "      <td>1</td>\n",
       "      <td>0</td>\n",
       "      <td>129740.11</td>\n",
       "      <td>0.0</td>\n",
       "    </tr>\n",
       "    <tr>\n",
       "      <th>106</th>\n",
       "      <td>107</td>\n",
       "      <td>15599195.0</td>\n",
       "      <td>Stiger</td>\n",
       "      <td>582</td>\n",
       "      <td>Germany</td>\n",
       "      <td>Male</td>\n",
       "      <td>32</td>\n",
       "      <td>1.0</td>\n",
       "      <td>88938.62</td>\n",
       "      <td>1.0</td>\n",
       "      <td>1</td>\n",
       "      <td>1</td>\n",
       "      <td>10054.53</td>\n",
       "      <td>0.0</td>\n",
       "    </tr>\n",
       "  </tbody>\n",
       "</table>\n",
       "</div>"
      ],
      "text/plain": [
       "      RowNumber  CustomerId    Surname  CreditScore Geography  Gender  Age  \\\n",
       "7506       7507  15700300.0      Okoli          674   Germany  Female   44   \n",
       "5464       5465  15795540.0       Reye          556    France  Female   36   \n",
       "9266       9267  15682273.0      Burns          683    France  Female   38   \n",
       "7959       7960  15686999.0   Nicholas          556    France  Female   40   \n",
       "9433       9434  15582903.0    Edwards          643    France    Male   39   \n",
       "7501       7502  15605341.0      Baird          681    France  Female   58   \n",
       "5516       5517  15569878.0       Dale          592    France    Male   37   \n",
       "1177       1178  15651369.0     Wright          626    France    Male   21   \n",
       "8389       8390  15715345.0  Sergeyeva          743     Spain    Male   25   \n",
       "106         107  15599195.0     Stiger          582   Germany    Male   32   \n",
       "\n",
       "      Tenure    Balance  NumOfProducts  HasCrCard  IsActiveMember  \\\n",
       "7506     4.0  131593.85            1.0          0               1   \n",
       "5464     2.0  134208.22            1.0          0               1   \n",
       "9266     5.0  127616.56            1.0          1               0   \n",
       "7959     8.0       0.00            2.0          1               0   \n",
       "9433     7.0       0.00            2.0          1               1   \n",
       "7501     8.0   93173.88            1.0          1               1   \n",
       "5516     3.0   96651.03            1.0          1               1   \n",
       "1177     1.0       0.00            2.0          1               0   \n",
       "8389     6.0       0.00            2.0          1               0   \n",
       "106      1.0   88938.62            1.0          1               1   \n",
       "\n",
       "      EstimatedSalary  Exited  \n",
       "7506        171345.02     1.0  \n",
       "5464        177670.57     0.0  \n",
       "9266        123846.07     0.0  \n",
       "7959         62112.70     0.0  \n",
       "9433        170392.59     0.0  \n",
       "7501        139761.25     0.0  \n",
       "5516          3232.82     0.0  \n",
       "1177         66232.23     0.0  \n",
       "8389        129740.11     0.0  \n",
       "106          10054.53     0.0  "
      ]
     },
     "execution_count": 4,
     "metadata": {},
     "output_type": "execute_result"
    }
   ],
   "source": [
    "ds.sample(10)"
   ]
  },
  {
   "cell_type": "code",
   "execution_count": 5,
   "id": "51371968",
   "metadata": {
    "execution": {
     "iopub.execute_input": "2023-12-03T09:34:48.201476Z",
     "iopub.status.busy": "2023-12-03T09:34:48.200992Z",
     "iopub.status.idle": "2023-12-03T09:34:48.220471Z",
     "shell.execute_reply": "2023-12-03T09:34:48.219510Z"
    },
    "papermill": {
     "duration": 0.028176,
     "end_time": "2023-12-03T09:34:48.221942",
     "exception": false,
     "start_time": "2023-12-03T09:34:48.193766",
     "status": "completed"
    },
    "tags": []
   },
   "outputs": [
    {
     "name": "stdout",
     "output_type": "stream",
     "text": [
      "<class 'pandas.core.frame.DataFrame'>\n",
      "RangeIndex: 10000 entries, 0 to 9999\n",
      "Data columns (total 14 columns):\n",
      " #   Column           Non-Null Count  Dtype  \n",
      "---  ------           --------------  -----  \n",
      " 0   RowNumber        10000 non-null  int64  \n",
      " 1   CustomerId       9999 non-null   float64\n",
      " 2   Surname          10000 non-null  object \n",
      " 3   CreditScore      10000 non-null  int64  \n",
      " 4   Geography        9999 non-null   object \n",
      " 5   Gender           9998 non-null   object \n",
      " 6   Age              10000 non-null  int64  \n",
      " 7   Tenure           9999 non-null   float64\n",
      " 8   Balance          10000 non-null  float64\n",
      " 9   NumOfProducts    9998 non-null   float64\n",
      " 10  HasCrCard        10000 non-null  int64  \n",
      " 11  IsActiveMember   10000 non-null  int64  \n",
      " 12  EstimatedSalary  9999 non-null   float64\n",
      " 13  Exited           9999 non-null   float64\n",
      "dtypes: float64(6), int64(5), object(3)\n",
      "memory usage: 1.1+ MB\n"
     ]
    }
   ],
   "source": [
    "ds.info()"
   ]
  },
  {
   "cell_type": "code",
   "execution_count": 6,
   "id": "36efd21a",
   "metadata": {
    "execution": {
     "iopub.execute_input": "2023-12-03T09:34:48.236089Z",
     "iopub.status.busy": "2023-12-03T09:34:48.235840Z",
     "iopub.status.idle": "2023-12-03T09:34:48.243181Z",
     "shell.execute_reply": "2023-12-03T09:34:48.242573Z"
    },
    "papermill": {
     "duration": 0.016137,
     "end_time": "2023-12-03T09:34:48.244706",
     "exception": false,
     "start_time": "2023-12-03T09:34:48.228569",
     "status": "completed"
    },
    "tags": []
   },
   "outputs": [
    {
     "data": {
      "text/plain": [
       "RowNumber          0\n",
       "CustomerId         1\n",
       "Surname            0\n",
       "CreditScore        0\n",
       "Geography          1\n",
       "Gender             2\n",
       "Age                0\n",
       "Tenure             1\n",
       "Balance            0\n",
       "NumOfProducts      2\n",
       "HasCrCard          0\n",
       "IsActiveMember     0\n",
       "EstimatedSalary    1\n",
       "Exited             1\n",
       "dtype: int64"
      ]
     },
     "execution_count": 6,
     "metadata": {},
     "output_type": "execute_result"
    }
   ],
   "source": [
    "ds.isnull().sum()"
   ]
  },
  {
   "cell_type": "code",
   "execution_count": 7,
   "id": "e4c07417",
   "metadata": {
    "execution": {
     "iopub.execute_input": "2023-12-03T09:34:48.259044Z",
     "iopub.status.busy": "2023-12-03T09:34:48.258610Z",
     "iopub.status.idle": "2023-12-03T09:34:48.262777Z",
     "shell.execute_reply": "2023-12-03T09:34:48.262265Z"
    },
    "papermill": {
     "duration": 0.012808,
     "end_time": "2023-12-03T09:34:48.264181",
     "exception": false,
     "start_time": "2023-12-03T09:34:48.251373",
     "status": "completed"
    },
    "tags": []
   },
   "outputs": [
    {
     "data": {
      "text/plain": [
       "(10000, 14)"
      ]
     },
     "execution_count": 7,
     "metadata": {},
     "output_type": "execute_result"
    }
   ],
   "source": [
    "ds.shape"
   ]
  },
  {
   "cell_type": "code",
   "execution_count": 8,
   "id": "07b22bba",
   "metadata": {
    "execution": {
     "iopub.execute_input": "2023-12-03T09:34:48.278723Z",
     "iopub.status.busy": "2023-12-03T09:34:48.278382Z",
     "iopub.status.idle": "2023-12-03T09:34:48.283887Z",
     "shell.execute_reply": "2023-12-03T09:34:48.283102Z"
    },
    "papermill": {
     "duration": 0.014718,
     "end_time": "2023-12-03T09:34:48.285607",
     "exception": false,
     "start_time": "2023-12-03T09:34:48.270889",
     "status": "completed"
    },
    "tags": []
   },
   "outputs": [],
   "source": [
    "ds.dropna(inplace=True)"
   ]
  },
  {
   "cell_type": "code",
   "execution_count": 9,
   "id": "72ab409a",
   "metadata": {
    "execution": {
     "iopub.execute_input": "2023-12-03T09:34:48.299931Z",
     "iopub.status.busy": "2023-12-03T09:34:48.299605Z",
     "iopub.status.idle": "2023-12-03T09:34:48.304620Z",
     "shell.execute_reply": "2023-12-03T09:34:48.303907Z"
    },
    "papermill": {
     "duration": 0.013891,
     "end_time": "2023-12-03T09:34:48.306057",
     "exception": false,
     "start_time": "2023-12-03T09:34:48.292166",
     "status": "completed"
    },
    "tags": []
   },
   "outputs": [
    {
     "data": {
      "text/plain": [
       "(9993, 14)"
      ]
     },
     "execution_count": 9,
     "metadata": {},
     "output_type": "execute_result"
    }
   ],
   "source": [
    "ds.shape"
   ]
  },
  {
   "cell_type": "code",
   "execution_count": 10,
   "id": "5dcae757",
   "metadata": {
    "execution": {
     "iopub.execute_input": "2023-12-03T09:34:48.320552Z",
     "iopub.status.busy": "2023-12-03T09:34:48.320294Z",
     "iopub.status.idle": "2023-12-03T09:34:48.325122Z",
     "shell.execute_reply": "2023-12-03T09:34:48.324384Z"
    },
    "papermill": {
     "duration": 0.013727,
     "end_time": "2023-12-03T09:34:48.326680",
     "exception": false,
     "start_time": "2023-12-03T09:34:48.312953",
     "status": "completed"
    },
    "tags": []
   },
   "outputs": [
    {
     "data": {
      "text/plain": [
       "Index(['RowNumber', 'CustomerId', 'Surname', 'CreditScore', 'Geography',\n",
       "       'Gender', 'Age', 'Tenure', 'Balance', 'NumOfProducts', 'HasCrCard',\n",
       "       'IsActiveMember', 'EstimatedSalary', 'Exited'],\n",
       "      dtype='object')"
      ]
     },
     "execution_count": 10,
     "metadata": {},
     "output_type": "execute_result"
    }
   ],
   "source": [
    "ds.columns\n"
   ]
  },
  {
   "cell_type": "code",
   "execution_count": 11,
   "id": "69a9545e",
   "metadata": {
    "execution": {
     "iopub.execute_input": "2023-12-03T09:34:48.341411Z",
     "iopub.status.busy": "2023-12-03T09:34:48.341164Z",
     "iopub.status.idle": "2023-12-03T09:34:48.347364Z",
     "shell.execute_reply": "2023-12-03T09:34:48.346852Z"
    },
    "papermill": {
     "duration": 0.015159,
     "end_time": "2023-12-03T09:34:48.348759",
     "exception": false,
     "start_time": "2023-12-03T09:34:48.333600",
     "status": "completed"
    },
    "tags": []
   },
   "outputs": [
    {
     "data": {
      "text/plain": [
       "RowNumber          0\n",
       "CustomerId         0\n",
       "Surname            0\n",
       "CreditScore        0\n",
       "Geography          0\n",
       "Gender             0\n",
       "Age                0\n",
       "Tenure             0\n",
       "Balance            0\n",
       "NumOfProducts      0\n",
       "HasCrCard          0\n",
       "IsActiveMember     0\n",
       "EstimatedSalary    0\n",
       "Exited             0\n",
       "dtype: int64"
      ]
     },
     "execution_count": 11,
     "metadata": {},
     "output_type": "execute_result"
    }
   ],
   "source": [
    "ds.isnull().sum()"
   ]
  },
  {
   "cell_type": "code",
   "execution_count": 12,
   "id": "5014e842",
   "metadata": {
    "execution": {
     "iopub.execute_input": "2023-12-03T09:34:48.364312Z",
     "iopub.status.busy": "2023-12-03T09:34:48.363607Z",
     "iopub.status.idle": "2023-12-03T09:34:48.369983Z",
     "shell.execute_reply": "2023-12-03T09:34:48.369272Z"
    },
    "papermill": {
     "duration": 0.015862,
     "end_time": "2023-12-03T09:34:48.371600",
     "exception": false,
     "start_time": "2023-12-03T09:34:48.355738",
     "status": "completed"
    },
    "tags": []
   },
   "outputs": [],
   "source": [
    "ds.drop(['RowNumber', 'CustomerId', 'Surname', 'Gender'], axis='columns',inplace=True)\n"
   ]
  },
  {
   "cell_type": "code",
   "execution_count": null,
   "id": "9e1858bd",
   "metadata": {
    "papermill": {
     "duration": 0.006873,
     "end_time": "2023-12-03T09:34:48.385441",
     "exception": false,
     "start_time": "2023-12-03T09:34:48.378568",
     "status": "completed"
    },
    "tags": []
   },
   "outputs": [],
   "source": []
  },
  {
   "cell_type": "code",
   "execution_count": null,
   "id": "14f1e51f",
   "metadata": {
    "papermill": {
     "duration": 0.006736,
     "end_time": "2023-12-03T09:34:48.399218",
     "exception": false,
     "start_time": "2023-12-03T09:34:48.392482",
     "status": "completed"
    },
    "tags": []
   },
   "outputs": [],
   "source": []
  },
  {
   "cell_type": "code",
   "execution_count": 13,
   "id": "7c48b679",
   "metadata": {
    "execution": {
     "iopub.execute_input": "2023-12-03T09:34:48.414435Z",
     "iopub.status.busy": "2023-12-03T09:34:48.414140Z",
     "iopub.status.idle": "2023-12-03T09:34:48.421900Z",
     "shell.execute_reply": "2023-12-03T09:34:48.421358Z"
    },
    "papermill": {
     "duration": 0.017047,
     "end_time": "2023-12-03T09:34:48.423338",
     "exception": false,
     "start_time": "2023-12-03T09:34:48.406291",
     "status": "completed"
    },
    "tags": []
   },
   "outputs": [],
   "source": [
    "x=ds[['CreditScore','Geography','Age','Tenure','Balance','NumOfProducts','HasCrCard','IsActiveMember','EstimatedSalary']].values"
   ]
  },
  {
   "cell_type": "code",
   "execution_count": 14,
   "id": "e685dac9",
   "metadata": {
    "execution": {
     "iopub.execute_input": "2023-12-03T09:34:48.438990Z",
     "iopub.status.busy": "2023-12-03T09:34:48.438580Z",
     "iopub.status.idle": "2023-12-03T09:34:48.442108Z",
     "shell.execute_reply": "2023-12-03T09:34:48.441593Z"
    },
    "papermill": {
     "duration": 0.013074,
     "end_time": "2023-12-03T09:34:48.443487",
     "exception": false,
     "start_time": "2023-12-03T09:34:48.430413",
     "status": "completed"
    },
    "tags": []
   },
   "outputs": [],
   "source": [
    "y=ds[['Exited']].values"
   ]
  },
  {
   "cell_type": "code",
   "execution_count": 15,
   "id": "feb8f58f",
   "metadata": {
    "execution": {
     "iopub.execute_input": "2023-12-03T09:34:48.459189Z",
     "iopub.status.busy": "2023-12-03T09:34:48.458303Z",
     "iopub.status.idle": "2023-12-03T09:34:48.463665Z",
     "shell.execute_reply": "2023-12-03T09:34:48.462904Z"
    },
    "papermill": {
     "duration": 0.014625,
     "end_time": "2023-12-03T09:34:48.465173",
     "exception": false,
     "start_time": "2023-12-03T09:34:48.450548",
     "status": "completed"
    },
    "tags": []
   },
   "outputs": [
    {
     "data": {
      "text/plain": [
       "array([[619, 'France', 42, ..., 1, 1, 101348.88],\n",
       "       [608, 'Spain', 41, ..., 0, 1, 112542.58],\n",
       "       [502, 'France', 42, ..., 1, 0, 113931.57],\n",
       "       ...,\n",
       "       [709, 'France', 36, ..., 0, 1, 42085.58],\n",
       "       [772, 'Germany', 42, ..., 1, 0, 92888.52],\n",
       "       [792, 'France', 28, ..., 1, 0, 38190.78]], dtype=object)"
      ]
     },
     "execution_count": 15,
     "metadata": {},
     "output_type": "execute_result"
    }
   ],
   "source": [
    "x"
   ]
  },
  {
   "cell_type": "code",
   "execution_count": 16,
   "id": "7368f4a5",
   "metadata": {
    "execution": {
     "iopub.execute_input": "2023-12-03T09:34:48.480444Z",
     "iopub.status.busy": "2023-12-03T09:34:48.480126Z",
     "iopub.status.idle": "2023-12-03T09:34:48.485168Z",
     "shell.execute_reply": "2023-12-03T09:34:48.484445Z"
    },
    "papermill": {
     "duration": 0.014292,
     "end_time": "2023-12-03T09:34:48.486639",
     "exception": false,
     "start_time": "2023-12-03T09:34:48.472347",
     "status": "completed"
    },
    "tags": []
   },
   "outputs": [
    {
     "data": {
      "text/plain": [
       "array([[1.],\n",
       "       [0.],\n",
       "       [1.],\n",
       "       ...,\n",
       "       [1.],\n",
       "       [1.],\n",
       "       [0.]])"
      ]
     },
     "execution_count": 16,
     "metadata": {},
     "output_type": "execute_result"
    }
   ],
   "source": [
    "y"
   ]
  },
  {
   "cell_type": "code",
   "execution_count": 17,
   "id": "bfa46991",
   "metadata": {
    "execution": {
     "iopub.execute_input": "2023-12-03T09:34:48.502212Z",
     "iopub.status.busy": "2023-12-03T09:34:48.501938Z",
     "iopub.status.idle": "2023-12-03T09:34:49.243619Z",
     "shell.execute_reply": "2023-12-03T09:34:49.242820Z"
    },
    "papermill": {
     "duration": 0.751955,
     "end_time": "2023-12-03T09:34:49.245716",
     "exception": false,
     "start_time": "2023-12-03T09:34:48.493761",
     "status": "completed"
    },
    "tags": []
   },
   "outputs": [],
   "source": [
    "from sklearn.preprocessing import LabelEncoder"
   ]
  },
  {
   "cell_type": "code",
   "execution_count": 18,
   "id": "e2be0719",
   "metadata": {
    "execution": {
     "iopub.execute_input": "2023-12-03T09:34:49.261738Z",
     "iopub.status.busy": "2023-12-03T09:34:49.261480Z",
     "iopub.status.idle": "2023-12-03T09:34:49.266907Z",
     "shell.execute_reply": "2023-12-03T09:34:49.266363Z"
    },
    "papermill": {
     "duration": 0.014993,
     "end_time": "2023-12-03T09:34:49.268309",
     "exception": false,
     "start_time": "2023-12-03T09:34:49.253316",
     "status": "completed"
    },
    "tags": []
   },
   "outputs": [],
   "source": [
    "label=LabelEncoder()\n",
    "x[:,1]=label.fit_transform(x[:,1])"
   ]
  },
  {
   "cell_type": "code",
   "execution_count": 19,
   "id": "87b65de5",
   "metadata": {
    "execution": {
     "iopub.execute_input": "2023-12-03T09:34:49.283604Z",
     "iopub.status.busy": "2023-12-03T09:34:49.283192Z",
     "iopub.status.idle": "2023-12-03T09:34:49.288307Z",
     "shell.execute_reply": "2023-12-03T09:34:49.287449Z"
    },
    "papermill": {
     "duration": 0.014426,
     "end_time": "2023-12-03T09:34:49.289841",
     "exception": false,
     "start_time": "2023-12-03T09:34:49.275415",
     "status": "completed"
    },
    "tags": []
   },
   "outputs": [
    {
     "data": {
      "text/plain": [
       "array([[619, 0, 42, ..., 1, 1, 101348.88],\n",
       "       [608, 2, 41, ..., 0, 1, 112542.58],\n",
       "       [502, 0, 42, ..., 1, 0, 113931.57],\n",
       "       ...,\n",
       "       [709, 0, 36, ..., 0, 1, 42085.58],\n",
       "       [772, 1, 42, ..., 1, 0, 92888.52],\n",
       "       [792, 0, 28, ..., 1, 0, 38190.78]], dtype=object)"
      ]
     },
     "execution_count": 19,
     "metadata": {},
     "output_type": "execute_result"
    }
   ],
   "source": [
    "x"
   ]
  },
  {
   "cell_type": "code",
   "execution_count": 20,
   "id": "cea2a8d7",
   "metadata": {
    "execution": {
     "iopub.execute_input": "2023-12-03T09:34:49.305806Z",
     "iopub.status.busy": "2023-12-03T09:34:49.305216Z",
     "iopub.status.idle": "2023-12-03T09:34:49.381572Z",
     "shell.execute_reply": "2023-12-03T09:34:49.380614Z"
    },
    "papermill": {
     "duration": 0.086383,
     "end_time": "2023-12-03T09:34:49.383693",
     "exception": false,
     "start_time": "2023-12-03T09:34:49.297310",
     "status": "completed"
    },
    "tags": []
   },
   "outputs": [],
   "source": [
    "from sklearn.model_selection import train_test_split"
   ]
  },
  {
   "cell_type": "code",
   "execution_count": 21,
   "id": "7aac91ee",
   "metadata": {
    "execution": {
     "iopub.execute_input": "2023-12-03T09:34:49.403267Z",
     "iopub.status.busy": "2023-12-03T09:34:49.402956Z",
     "iopub.status.idle": "2023-12-03T09:34:49.410819Z",
     "shell.execute_reply": "2023-12-03T09:34:49.410230Z"
    },
    "papermill": {
     "duration": 0.019855,
     "end_time": "2023-12-03T09:34:49.412424",
     "exception": false,
     "start_time": "2023-12-03T09:34:49.392569",
     "status": "completed"
    },
    "tags": []
   },
   "outputs": [],
   "source": [
    "x_train,x_test,y_train,y_test=train_test_split(x,y,test_size=0.3)"
   ]
  },
  {
   "cell_type": "code",
   "execution_count": 22,
   "id": "e74e9e2f",
   "metadata": {
    "execution": {
     "iopub.execute_input": "2023-12-03T09:34:49.429317Z",
     "iopub.status.busy": "2023-12-03T09:34:49.428843Z",
     "iopub.status.idle": "2023-12-03T09:34:49.433869Z",
     "shell.execute_reply": "2023-12-03T09:34:49.433271Z"
    },
    "papermill": {
     "duration": 0.015033,
     "end_time": "2023-12-03T09:34:49.435437",
     "exception": false,
     "start_time": "2023-12-03T09:34:49.420404",
     "status": "completed"
    },
    "tags": []
   },
   "outputs": [
    {
     "data": {
      "text/plain": [
       "array([[790, 1, 25, ..., 1, 0, 58214.79],\n",
       "       [800, 1, 39, ..., 1, 0, 13906.34],\n",
       "       [756, 0, 28, ..., 1, 1, 164394.65],\n",
       "       ...,\n",
       "       [795, 0, 36, ..., 1, 1, 135388.89],\n",
       "       [709, 0, 39, ..., 1, 0, 56214.09],\n",
       "       [637, 0, 38, ..., 0, 0, 119882.86]], dtype=object)"
      ]
     },
     "execution_count": 22,
     "metadata": {},
     "output_type": "execute_result"
    }
   ],
   "source": [
    "x_train"
   ]
  },
  {
   "cell_type": "code",
   "execution_count": 23,
   "id": "5b9631b4",
   "metadata": {
    "execution": {
     "iopub.execute_input": "2023-12-03T09:34:49.451458Z",
     "iopub.status.busy": "2023-12-03T09:34:49.450990Z",
     "iopub.status.idle": "2023-12-03T09:34:49.455867Z",
     "shell.execute_reply": "2023-12-03T09:34:49.455272Z"
    },
    "papermill": {
     "duration": 0.014698,
     "end_time": "2023-12-03T09:34:49.457438",
     "exception": false,
     "start_time": "2023-12-03T09:34:49.442740",
     "status": "completed"
    },
    "tags": []
   },
   "outputs": [
    {
     "data": {
      "text/plain": [
       "array([[614, 0, 41, ..., 1, 1, 598.8],\n",
       "       [518, 0, 38, ..., 0, 1, 162304.59],\n",
       "       [547, 1, 55, ..., 1, 0, 16922.28],\n",
       "       ...,\n",
       "       [647, 0, 33, ..., 1, 0, 152323.04],\n",
       "       [589, 0, 31, ..., 1, 0, 148218.86],\n",
       "       [704, 0, 40, ..., 0, 1, 179964.55]], dtype=object)"
      ]
     },
     "execution_count": 23,
     "metadata": {},
     "output_type": "execute_result"
    }
   ],
   "source": [
    "x_test"
   ]
  },
  {
   "cell_type": "code",
   "execution_count": 24,
   "id": "73557bd8",
   "metadata": {
    "execution": {
     "iopub.execute_input": "2023-12-03T09:34:49.473935Z",
     "iopub.status.busy": "2023-12-03T09:34:49.473472Z",
     "iopub.status.idle": "2023-12-03T09:34:49.478270Z",
     "shell.execute_reply": "2023-12-03T09:34:49.477686Z"
    },
    "papermill": {
     "duration": 0.014928,
     "end_time": "2023-12-03T09:34:49.479842",
     "exception": false,
     "start_time": "2023-12-03T09:34:49.464914",
     "status": "completed"
    },
    "tags": []
   },
   "outputs": [
    {
     "data": {
      "text/plain": [
       "array([[0.],\n",
       "       [0.],\n",
       "       [0.],\n",
       "       ...,\n",
       "       [0.],\n",
       "       [0.],\n",
       "       [0.]])"
      ]
     },
     "execution_count": 24,
     "metadata": {},
     "output_type": "execute_result"
    }
   ],
   "source": [
    "y_train"
   ]
  },
  {
   "cell_type": "code",
   "execution_count": 25,
   "id": "3d94e5ea",
   "metadata": {
    "execution": {
     "iopub.execute_input": "2023-12-03T09:34:49.496461Z",
     "iopub.status.busy": "2023-12-03T09:34:49.495992Z",
     "iopub.status.idle": "2023-12-03T09:34:49.500864Z",
     "shell.execute_reply": "2023-12-03T09:34:49.500282Z"
    },
    "papermill": {
     "duration": 0.015111,
     "end_time": "2023-12-03T09:34:49.502419",
     "exception": false,
     "start_time": "2023-12-03T09:34:49.487308",
     "status": "completed"
    },
    "tags": []
   },
   "outputs": [
    {
     "data": {
      "text/plain": [
       "array([[0.],\n",
       "       [0.],\n",
       "       [1.],\n",
       "       ...,\n",
       "       [0.],\n",
       "       [0.],\n",
       "       [0.]])"
      ]
     },
     "execution_count": 25,
     "metadata": {},
     "output_type": "execute_result"
    }
   ],
   "source": [
    "y_test"
   ]
  },
  {
   "cell_type": "code",
   "execution_count": 26,
   "id": "ba161b04",
   "metadata": {
    "execution": {
     "iopub.execute_input": "2023-12-03T09:34:49.518855Z",
     "iopub.status.busy": "2023-12-03T09:34:49.518255Z",
     "iopub.status.idle": "2023-12-03T09:34:49.763661Z",
     "shell.execute_reply": "2023-12-03T09:34:49.762756Z"
    },
    "papermill": {
     "duration": 0.25541,
     "end_time": "2023-12-03T09:34:49.765311",
     "exception": false,
     "start_time": "2023-12-03T09:34:49.509901",
     "status": "completed"
    },
    "tags": []
   },
   "outputs": [
    {
     "data": {
      "text/html": [
       "<style>#sk-container-id-1 {color: black;background-color: white;}#sk-container-id-1 pre{padding: 0;}#sk-container-id-1 div.sk-toggleable {background-color: white;}#sk-container-id-1 label.sk-toggleable__label {cursor: pointer;display: block;width: 100%;margin-bottom: 0;padding: 0.3em;box-sizing: border-box;text-align: center;}#sk-container-id-1 label.sk-toggleable__label-arrow:before {content: \"▸\";float: left;margin-right: 0.25em;color: #696969;}#sk-container-id-1 label.sk-toggleable__label-arrow:hover:before {color: black;}#sk-container-id-1 div.sk-estimator:hover label.sk-toggleable__label-arrow:before {color: black;}#sk-container-id-1 div.sk-toggleable__content {max-height: 0;max-width: 0;overflow: hidden;text-align: left;background-color: #f0f8ff;}#sk-container-id-1 div.sk-toggleable__content pre {margin: 0.2em;color: black;border-radius: 0.25em;background-color: #f0f8ff;}#sk-container-id-1 input.sk-toggleable__control:checked~div.sk-toggleable__content {max-height: 200px;max-width: 100%;overflow: auto;}#sk-container-id-1 input.sk-toggleable__control:checked~label.sk-toggleable__label-arrow:before {content: \"▾\";}#sk-container-id-1 div.sk-estimator input.sk-toggleable__control:checked~label.sk-toggleable__label {background-color: #d4ebff;}#sk-container-id-1 div.sk-label input.sk-toggleable__control:checked~label.sk-toggleable__label {background-color: #d4ebff;}#sk-container-id-1 input.sk-hidden--visually {border: 0;clip: rect(1px 1px 1px 1px);clip: rect(1px, 1px, 1px, 1px);height: 1px;margin: -1px;overflow: hidden;padding: 0;position: absolute;width: 1px;}#sk-container-id-1 div.sk-estimator {font-family: monospace;background-color: #f0f8ff;border: 1px dotted black;border-radius: 0.25em;box-sizing: border-box;margin-bottom: 0.5em;}#sk-container-id-1 div.sk-estimator:hover {background-color: #d4ebff;}#sk-container-id-1 div.sk-parallel-item::after {content: \"\";width: 100%;border-bottom: 1px solid gray;flex-grow: 1;}#sk-container-id-1 div.sk-label:hover label.sk-toggleable__label {background-color: #d4ebff;}#sk-container-id-1 div.sk-serial::before {content: \"\";position: absolute;border-left: 1px solid gray;box-sizing: border-box;top: 0;bottom: 0;left: 50%;z-index: 0;}#sk-container-id-1 div.sk-serial {display: flex;flex-direction: column;align-items: center;background-color: white;padding-right: 0.2em;padding-left: 0.2em;position: relative;}#sk-container-id-1 div.sk-item {position: relative;z-index: 1;}#sk-container-id-1 div.sk-parallel {display: flex;align-items: stretch;justify-content: center;background-color: white;position: relative;}#sk-container-id-1 div.sk-item::before, #sk-container-id-1 div.sk-parallel-item::before {content: \"\";position: absolute;border-left: 1px solid gray;box-sizing: border-box;top: 0;bottom: 0;left: 50%;z-index: -1;}#sk-container-id-1 div.sk-parallel-item {display: flex;flex-direction: column;z-index: 1;position: relative;background-color: white;}#sk-container-id-1 div.sk-parallel-item:first-child::after {align-self: flex-end;width: 50%;}#sk-container-id-1 div.sk-parallel-item:last-child::after {align-self: flex-start;width: 50%;}#sk-container-id-1 div.sk-parallel-item:only-child::after {width: 0;}#sk-container-id-1 div.sk-dashed-wrapped {border: 1px dashed gray;margin: 0 0.4em 0.5em 0.4em;box-sizing: border-box;padding-bottom: 0.4em;background-color: white;}#sk-container-id-1 div.sk-label label {font-family: monospace;font-weight: bold;display: inline-block;line-height: 1.2em;}#sk-container-id-1 div.sk-label-container {text-align: center;}#sk-container-id-1 div.sk-container {/* jupyter's `normalize.less` sets `[hidden] { display: none; }` but bootstrap.min.css set `[hidden] { display: none !important; }` so we also need the `!important` here to be able to override the default hidden behavior on the sphinx rendered scikit-learn.org. See: https://github.com/scikit-learn/scikit-learn/issues/21755 */display: inline-block !important;position: relative;}#sk-container-id-1 div.sk-text-repr-fallback {display: none;}</style><div id=\"sk-container-id-1\" class=\"sk-top-container\"><div class=\"sk-text-repr-fallback\"><pre>DecisionTreeClassifier()</pre><b>In a Jupyter environment, please rerun this cell to show the HTML representation or trust the notebook. <br />On GitHub, the HTML representation is unable to render, please try loading this page with nbviewer.org.</b></div><div class=\"sk-container\" hidden><div class=\"sk-item\"><div class=\"sk-estimator sk-toggleable\"><input class=\"sk-toggleable__control sk-hidden--visually\" id=\"sk-estimator-id-1\" type=\"checkbox\" checked><label for=\"sk-estimator-id-1\" class=\"sk-toggleable__label sk-toggleable__label-arrow\">DecisionTreeClassifier</label><div class=\"sk-toggleable__content\"><pre>DecisionTreeClassifier()</pre></div></div></div></div></div>"
      ],
      "text/plain": [
       "DecisionTreeClassifier()"
      ]
     },
     "execution_count": 26,
     "metadata": {},
     "output_type": "execute_result"
    }
   ],
   "source": [
    "from sklearn.tree import DecisionTreeClassifier\n",
    "model=DecisionTreeClassifier()\n",
    "model.fit(x_train,y_train)"
   ]
  },
  {
   "cell_type": "code",
   "execution_count": 27,
   "id": "7e59c425",
   "metadata": {
    "execution": {
     "iopub.execute_input": "2023-12-03T09:34:49.820253Z",
     "iopub.status.busy": "2023-12-03T09:34:49.819959Z",
     "iopub.status.idle": "2023-12-03T09:34:49.827487Z",
     "shell.execute_reply": "2023-12-03T09:34:49.826865Z"
    },
    "papermill": {
     "duration": 0.055515,
     "end_time": "2023-12-03T09:34:49.828989",
     "exception": false,
     "start_time": "2023-12-03T09:34:49.773474",
     "status": "completed"
    },
    "tags": []
   },
   "outputs": [
    {
     "data": {
      "text/plain": [
       "array([0., 1., 1., ..., 0., 0., 0.])"
      ]
     },
     "execution_count": 27,
     "metadata": {},
     "output_type": "execute_result"
    }
   ],
   "source": [
    "model.predict(x_test)"
   ]
  },
  {
   "cell_type": "code",
   "execution_count": 28,
   "id": "d2e92ceb",
   "metadata": {
    "execution": {
     "iopub.execute_input": "2023-12-03T09:34:49.846307Z",
     "iopub.status.busy": "2023-12-03T09:34:49.845747Z",
     "iopub.status.idle": "2023-12-03T09:34:49.850770Z",
     "shell.execute_reply": "2023-12-03T09:34:49.849990Z"
    },
    "papermill": {
     "duration": 0.015407,
     "end_time": "2023-12-03T09:34:49.852404",
     "exception": false,
     "start_time": "2023-12-03T09:34:49.836997",
     "status": "completed"
    },
    "tags": []
   },
   "outputs": [
    {
     "data": {
      "text/plain": [
       "array([[0.],\n",
       "       [0.],\n",
       "       [1.],\n",
       "       ...,\n",
       "       [0.],\n",
       "       [0.],\n",
       "       [0.]])"
      ]
     },
     "execution_count": 28,
     "metadata": {},
     "output_type": "execute_result"
    }
   ],
   "source": [
    "y_test"
   ]
  },
  {
   "cell_type": "code",
   "execution_count": 29,
   "id": "fde12692",
   "metadata": {
    "execution": {
     "iopub.execute_input": "2023-12-03T09:34:49.869722Z",
     "iopub.status.busy": "2023-12-03T09:34:49.869493Z",
     "iopub.status.idle": "2023-12-03T09:34:49.876401Z",
     "shell.execute_reply": "2023-12-03T09:34:49.875874Z"
    },
    "papermill": {
     "duration": 0.017217,
     "end_time": "2023-12-03T09:34:49.877817",
     "exception": false,
     "start_time": "2023-12-03T09:34:49.860600",
     "status": "completed"
    },
    "tags": []
   },
   "outputs": [
    {
     "data": {
      "text/plain": [
       "0.7738492328218812"
      ]
     },
     "execution_count": 29,
     "metadata": {},
     "output_type": "execute_result"
    }
   ],
   "source": [
    "model.score(x_test,y_test)"
   ]
  },
  {
   "cell_type": "code",
   "execution_count": null,
   "id": "4a1eb777",
   "metadata": {
    "papermill": {
     "duration": 0.008143,
     "end_time": "2023-12-03T09:34:49.894375",
     "exception": false,
     "start_time": "2023-12-03T09:34:49.886232",
     "status": "completed"
    },
    "tags": []
   },
   "outputs": [],
   "source": []
  },
  {
   "cell_type": "code",
   "execution_count": null,
   "id": "58f54aa3",
   "metadata": {
    "papermill": {
     "duration": 0.007838,
     "end_time": "2023-12-03T09:34:49.910414",
     "exception": false,
     "start_time": "2023-12-03T09:34:49.902576",
     "status": "completed"
    },
    "tags": []
   },
   "outputs": [],
   "source": []
  }
 ],
 "metadata": {
  "kaggle": {
   "accelerator": "none",
   "dataSources": [
    {
     "datasetId": 4099458,
     "sourceId": 7110055,
     "sourceType": "datasetVersion"
    }
   ],
   "dockerImageVersionId": 30587,
   "isGpuEnabled": false,
   "isInternetEnabled": false,
   "language": "python",
   "sourceType": "notebook"
  },
  "kernelspec": {
   "display_name": "Python 3",
   "language": "python",
   "name": "python3"
  },
  "language_info": {
   "codemirror_mode": {
    "name": "ipython",
    "version": 3
   },
   "file_extension": ".py",
   "mimetype": "text/x-python",
   "name": "python",
   "nbconvert_exporter": "python",
   "pygments_lexer": "ipython3",
   "version": "3.10.12"
  },
  "papermill": {
   "default_parameters": {},
   "duration": 4.809503,
   "end_time": "2023-12-03T09:34:50.335527",
   "environment_variables": {},
   "exception": null,
   "input_path": "__notebook__.ipynb",
   "output_path": "__notebook__.ipynb",
   "parameters": {},
   "start_time": "2023-12-03T09:34:45.526024",
   "version": "2.4.0"
  }
 },
 "nbformat": 4,
 "nbformat_minor": 5
}
